{
 "cells": [
  {
   "cell_type": "code",
   "execution_count": 1,
   "metadata": {},
   "outputs": [],
   "source": [
    "from data.data import PublicData\n",
    "from cf.plainCF import PlainCF\n",
    "from cf.DiCE import DiCE\n",
    "from model.model import Model\n",
    "\n",
    "import torch\n",
    "import json\n",
    "import pandas as pd\n",
    "\n",
    "\n",
    "\n",
    "dataset = pd.read_csv(\"/home/yongjie/code/Supply-Chain/data/1month/1month_without_wlb_37.csv\")\n",
    "\n",
    "#print(dataset.head())\n",
    "\n",
    "m = Model(model_path= \"../Supply-Chain/weights/1month_model_without_wlb_37.pth\")\n",
    "d = PublicData(dataframe=dataset, target = 'diff_paid_order_num_td')\n",
    "exp = PlainCF(d, m)\n",
    "exp1 = DiCE(d, m)\n",
    "\n"
   ]
  },
  {
   "cell_type": "code",
   "execution_count": 2,
   "metadata": {},
   "outputs": [
    {
     "name": "stdout",
     "output_type": "stream",
     "text": [
      "[[7.31296500e+02 0.00000000e+00 5.60757000e+01 0.00000000e+00\n",
      "  0.00000000e+00 0.00000000e+00 4.97166000e+01 0.00000000e+00\n",
      "  0.00000000e+00 7.37655600e+02 1.82853030e+03 0.00000000e+00\n",
      "  4.63636200e+02 2.24302800e+03 0.00000000e+00 0.00000000e+00\n",
      "  6.25504200e+00 0.00000000e+00 2.26915633e+05 1.88000000e+02\n",
      "  0.00000000e+00 0.00000000e+00 7.14473790e+03 1.42590828e+00\n",
      "  5.77868760e+03 4.03513800e+02 0.00000000e+00 1.12480917e+04\n",
      "  0.00000000e+00 1.30419360e+03 3.90505394e+03 5.53958942e+04\n",
      "  0.00000000e+00 4.87062546e+03 0.00000000e+00 0.00000000e+00]]\n",
      "[array([ 0.18131171, -0.62369245, -0.3039874 , -0.34948045, -0.21131776,\n",
      "        1.6077644 , -0.2955239 , -0.8904284 , -0.7875009 ,  0.34826574,\n",
      "       -0.9315023 , -0.6267511 , -0.4339371 , -0.1036639 , -0.7189141 ,\n",
      "       -0.91805214, -0.5538547 , -0.97842073, -0.12905212,  0.535255  ,\n",
      "       -0.86821663,  1.1622926 , -0.14193787,  0.71251744, -0.01889429,\n",
      "       -1.1815566 , -0.8923958 , -0.32622707, -0.73745066, -1.2808342 ,\n",
      "       -0.3013364 , -0.43991724, -0.6626221 , -0.24304791, -0.69671047,\n",
      "       -0.62640834], dtype=float32), array([ 0.18131171, -0.62369245, -0.3039874 ,  2.397219  ,  1.2673118 ,\n",
      "        1.582235  , -0.2955239 , -0.8904284 ,  1.5199137 ,  0.34826574,\n",
      "       -0.9315023 , -0.6267511 , -0.4339371 , -0.1036639 , -0.7189141 ,\n",
      "       -0.91805214, -0.5538547 , -0.97842073, -0.12905212,  0.535255  ,\n",
      "       -0.86821663,  0.51110786, -0.14193787,  0.71251744, -0.01889429,\n",
      "       -1.1815566 , -0.8923958 , -0.32622707, -0.73745066, -1.2808342 ,\n",
      "       -0.3013364 , -0.43991724, -0.6626221 , -0.24304791, -0.69671047,\n",
      "       -0.62640834], dtype=float32), array([ 0.18131171, -0.62369245, -0.3039874 ,  1.2620764 ,  1.1708794 ,\n",
      "        0.3386692 , -0.2955239 , -0.8904284 , -0.21836786,  0.34826574,\n",
      "       -0.9315023 , -0.6267511 , -0.4339371 , -0.1036639 , -0.7189141 ,\n",
      "       -0.91805214, -0.5538547 , -0.97842073, -0.12905212,  0.535255  ,\n",
      "       -0.86821663,  1.9314877 , -0.14193787,  0.71251744, -0.01889429,\n",
      "       -1.1815566 , -0.8923958 , -0.32622707, -0.73745066, -1.2808342 ,\n",
      "       -0.3013364 , -0.43991724, -0.6626221 , -0.24304791, -0.69671047,\n",
      "       -0.62640834], dtype=float32), array([ 0.18131171, -0.62369245, -0.3039874 ,  1.762467  ,  1.7649915 ,\n",
      "        1.1673527 , -0.2955239 , -0.8904284 , -0.89774156,  0.34826574,\n",
      "       -0.9315023 , -0.6267511 , -0.4339371 , -0.1036639 , -0.7189141 ,\n",
      "       -0.91805214, -0.5538547 , -0.97842073, -0.12905212,  0.535255  ,\n",
      "       -0.86821663,  0.08829322, -0.14193787,  0.71251744, -0.01889429,\n",
      "       -1.1815566 , -0.8923958 , -0.32622707, -0.73745066, -1.2808342 ,\n",
      "       -0.3013364 , -0.43991724, -0.6626221 , -0.24304791, -0.69671047,\n",
      "       -0.62640834], dtype=float32)]\n"
     ]
    }
   ],
   "source": [
    "#print(dataset.loc[0, features_to_vary])\n",
    "query_instance = dataset.iloc[-100:-99, 0:-1].values\n",
    "\n",
    "\n",
    "\n",
    "features_to_vary = ['activity_price_avg', 'diff_price_avg', 'discount_avg', 'item_id_num', 'original_price_avg']\n",
    "#plain_exp = exp.generate_counterfactuals(query_instance, desired_target = 1.1, features_to_vary = features_to_vary)\n",
    "\n",
    "dice_exp = exp1.generate_counterfactuals(query_instance, total_CFs = 4, desired_target = 1.1, features_to_vary = features_to_vary)\n",
    "\n",
    "print(query_instance)\n",
    "print(dice_exp)\n"
   ]
  },
  {
   "cell_type": "code",
   "execution_count": 3,
   "metadata": {},
   "outputs": [
    {
     "name": "stdout",
     "output_type": "stream",
     "text": [
      "activity_price_avg    3462.81900\n",
      "diff_price_avg        1734.30000\n",
      "discount_avg             3.87327\n",
      "item_id_num              0.57810\n",
      "original_price_avg    5197.11900\n",
      "Name: 0, dtype: float64\n",
      "(7776, 37)\n"
     ]
    }
   ],
   "source": [
    "print(dataset.loc[0, features_to_vary])\n",
    "print(dataset.shape)"
   ]
  },
  {
   "cell_type": "code",
   "execution_count": 4,
   "metadata": {},
   "outputs": [
    {
     "name": "stdout",
     "output_type": "stream",
     "text": [
      "[ 8  5  4  3 21]\n"
     ]
    }
   ],
   "source": [
    "indexes = dataset.columns.get_indexer(features_to_vary)\n",
    "print(indexes)"
   ]
  },
  {
   "cell_type": "code",
   "execution_count": 5,
   "metadata": {},
   "outputs": [
    {
     "name": "stdout",
     "output_type": "stream",
     "text": [
      "[0. 0. 0. 0. 0.]\n"
     ]
    }
   ],
   "source": [
    "print(query_instance[0, indexes])"
   ]
  },
  {
   "cell_type": "code",
   "execution_count": 11,
   "metadata": {},
   "outputs": [
    {
     "name": "stdout",
     "output_type": "stream",
     "text": [
      "[1.9428904e+03 2.5484070e+04 6.9200001e+00 2.0129999e+01 5.7137762e+04]\n",
      "[4.260896e+04 2.522407e+04 2.026000e+01 1.965500e+02 3.909416e+04]\n",
      "[1.197334e+04 1.255918e+04 1.939000e+01 1.236400e+02 7.845130e+04]\n",
      "[-2.998690e-04  2.099877e+04  2.475000e+01  1.557800e+02  2.737844e+04]\n"
     ]
    }
   ],
   "source": [
    "for i in range(4):\n",
    "    tmp = dice_exp[i]\n",
    "    result = exp1.data_interface.de_normalize_data(tmp)\n",
    "    print(result[indexes])"
   ]
  },
  {
   "cell_type": "code",
   "execution_count": 9,
   "metadata": {},
   "outputs": [
    {
     "name": "stdout",
     "output_type": "stream",
     "text": [
      "[-0.7875009   1.6077644  -0.21131776 -0.34948045  1.1622926 ]\n"
     ]
    }
   ],
   "source": [
    "print(dice_exp[0][indexes])"
   ]
  },
  {
   "cell_type": "code",
   "execution_count": 20,
   "metadata": {},
   "outputs": [
    {
     "name": "stdout",
     "output_type": "stream",
     "text": [
      "activity_price_avg    53226.007144\n",
      "diff_price_avg        25484.067350\n",
      "discount_avg             28.744036\n",
      "item_id_num             196.554000\n",
      "original_price_avg    78451.306297\n",
      "dtype: float64\n"
     ]
    }
   ],
   "source": [
    "print(dataset.iloc[:, indexes].max())"
   ]
  },
  {
   "cell_type": "code",
   "execution_count": 21,
   "metadata": {},
   "outputs": [
    {
     "name": "stdout",
     "output_type": "stream",
     "text": [
      "activity_price_avg    0.0\n",
      "diff_price_avg        0.0\n",
      "discount_avg          0.0\n",
      "item_id_num           0.0\n",
      "original_price_avg    0.0\n",
      "dtype: float64\n"
     ]
    }
   ],
   "source": [
    "print(dataset.iloc[:, indexes].min())"
   ]
  },
  {
   "cell_type": "code",
   "execution_count": 13,
   "metadata": {},
   "outputs": [
    {
     "name": "stdout",
     "output_type": "stream",
     "text": [
      "[[0.00000000e+00 4.50339900e+04 9.71208000e+01 9.24960000e+00\n",
      "  1.27347171e+01 1.44896636e+04 6.99501000e+01 3.70157430e+04\n",
      "  2.41488887e+04 0.00000000e+00 3.27378030e+03 7.73035320e+04\n",
      "  1.27182000e+01 5.90818200e+02 5.11789122e+03 1.05321882e+00\n",
      "  1.04058000e-01 1.29494400e+01 6.11972729e+04 8.80000000e+01\n",
      "  1.29378780e+04 3.86385523e+04 2.71360140e+03 2.70773468e+00\n",
      "  8.96633100e+02 4.28950200e+02 2.38119390e+04 9.69473700e+03\n",
      "  3.06485678e+03 1.55393280e+03 5.62597092e+03 1.25910180e+03\n",
      "  7.00657200e+01 7.58152135e+03 2.16251067e+03 1.22337522e+05]]\n",
      "[array([-0.6313093 , -0.4928633 , -0.1453435 ,  1.4327137 , -0.978343  ,\n",
      "        1.0795345 , -0.14213677,  0.54342926,  0.3111961 , -0.52851045,\n",
      "        1.2269505 , -0.5111892 , -0.49823406, -0.22969201, -0.2985324 ,\n",
      "       -0.10930051, -0.6203098 ,  0.44804022, -0.2863973 , -0.6675653 ,\n",
      "        0.53952396, -0.32976907, -0.35123315,  2.2897213 , -0.6065786 ,\n",
      "       -0.21250719,  0.53365105, -0.4908362 , -0.20853615, -0.9617361 ,\n",
      "       -0.15598384, -0.51529294, -0.5066016 , -0.18958549, -0.3937674 ,\n",
      "       -0.505525  ], dtype=float32), array([-0.6313093 , -0.4928633 , -0.1453435 , -0.07982374,  1.9246037 ,\n",
      "       -0.82631797, -0.14213677,  0.54342926,  1.1569794 , -0.52851045,\n",
      "        1.2269505 , -0.5111892 , -0.49823406, -0.22969201, -0.2985324 ,\n",
      "       -0.10930051, -0.6203098 ,  0.44804022, -0.2863973 , -0.6675653 ,\n",
      "        0.53952396,  0.23519346, -0.35123315,  2.2897213 , -0.6065786 ,\n",
      "       -0.21250719,  0.53365105, -0.4908362 , -0.20853615, -0.9617361 ,\n",
      "       -0.15598384, -0.51529294, -0.5066016 , -0.18958549, -0.3937674 ,\n",
      "       -0.505525  ], dtype=float32), array([-0.6313093 , -0.4928633 , -0.1453435 , -0.66288626,  0.15335175,\n",
      "        0.8526703 , -0.14213677,  0.54342926,  2.0689247 , -0.52851045,\n",
      "        1.2269505 , -0.5111892 , -0.49823406, -0.22969201, -0.2985324 ,\n",
      "       -0.10930051, -0.6203098 ,  0.44804022, -0.2863973 , -0.6675653 ,\n",
      "        0.53952396, -0.50166667, -0.35123315,  2.2897213 , -0.6065786 ,\n",
      "       -0.21250719,  0.53365105, -0.4908362 , -0.20853615, -0.9617361 ,\n",
      "       -0.15598384, -0.51529294, -0.5066016 , -0.18958549, -0.3937674 ,\n",
      "       -0.505525  ], dtype=float32), array([-0.6313093 , -0.4928633 , -0.1453435 ,  2.3375893 ,  2.20725   ,\n",
      "        1.6077644 , -0.14213677,  0.54342926,  1.5810447 , -0.52851045,\n",
      "        1.2269505 , -0.5111892 , -0.49823406, -0.22969201, -0.2985324 ,\n",
      "       -0.10930051, -0.6203098 ,  0.44804022, -0.2863973 , -0.6675653 ,\n",
      "        0.53952396,  0.34519467, -0.35123315,  2.2897213 , -0.6065786 ,\n",
      "       -0.21250719,  0.53365105, -0.4908362 , -0.20853615, -0.9617361 ,\n",
      "       -0.15598384, -0.51529294, -0.5066016 , -0.18958549, -0.3937674 ,\n",
      "       -0.505525  ], dtype=float32)]\n"
     ]
    }
   ],
   "source": [
    "#print(dataset.loc[0, features_to_vary])\n",
    "query_instance = dataset.iloc[7000:7001, 0:-1].values\n",
    "\n",
    "#dice_exp = exp.generate_counterfactuals(query_instance, total_CFs = 4, desired_target = 1.1, features_to_vary = ['paid_order_num_t12', 'diff_price_sum', 'paid_order_num_m0', 'item_id_num', 'discount_avg', 'diff_price_avg'])\n",
    "\n",
    "features_to_vary = ['activity_price_avg', 'diff_price_avg', 'discount_avg', 'item_id_num', 'original_price_avg']\n",
    "dice_exp = exp1.generate_counterfactuals(query_instance, total_CFs = 4, desired_target = 1.1, features_to_vary = features_to_vary)\n",
    "\n",
    "\n",
    "print(query_instance)\n",
    "print(dice_exp)\n"
   ]
  },
  {
   "cell_type": "code",
   "execution_count": 14,
   "metadata": {},
   "outputs": [
    {
     "name": "stdout",
     "output_type": "stream",
     "text": [
      "[2.41488887e+04 1.44896636e+04 1.27347171e+01 9.24960000e+00\n",
      " 3.86385523e+04]\n"
     ]
    }
   ],
   "source": [
    "#query_instance = dataset.iloc[7000:7001, 0:-1].values\n",
    "print(query_instance[0, indexes])\n",
    "#print(dice_exp[0, indexes])"
   ]
  },
  {
   "cell_type": "code",
   "execution_count": 15,
   "metadata": {},
   "outputs": [
    {
     "name": "stdout",
     "output_type": "stream",
     "text": [
      "[ 2.1306420e+04  2.0104400e+04 -5.5231013e-08  1.3460001e+02\n",
      "  1.5794400e+04]\n",
      "[3.621258e+04 6.945602e+02 2.619000e+01 3.745000e+01 3.144888e+04]\n",
      "[5.2284781e+04 1.7793939e+04 1.0210000e+01 4.8583985e-07 1.1031311e+04]\n",
      "[4.368634e+04 2.548407e+04 2.874000e+01 1.927200e+02 3.449689e+04]\n"
     ]
    }
   ],
   "source": [
    "for i in range(4):\n",
    "    tmp = dice_exp[i]\n",
    "    result = exp1.data_interface.de_normalize_data(tmp)\n",
    "    print(result[indexes])"
   ]
  },
  {
   "cell_type": "code",
   "execution_count": null,
   "metadata": {},
   "outputs": [],
   "source": []
  }
 ],
 "metadata": {
  "kernelspec": {
   "display_name": "Python 3",
   "language": "python",
   "name": "python3"
  },
  "language_info": {
   "codemirror_mode": {
    "name": "ipython",
    "version": 3
   },
   "file_extension": ".py",
   "mimetype": "text/x-python",
   "name": "python",
   "nbconvert_exporter": "python",
   "pygments_lexer": "ipython3",
   "version": "3.7.3"
  }
 },
 "nbformat": 4,
 "nbformat_minor": 2
}
